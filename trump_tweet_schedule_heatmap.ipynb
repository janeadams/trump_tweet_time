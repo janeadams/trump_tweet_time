{
 "cells": [
  {
   "cell_type": "code",
   "execution_count": 1,
   "metadata": {},
   "outputs": [],
   "source": [
    "import pandas as pd"
   ]
  },
  {
   "cell_type": "code",
   "execution_count": 2,
   "metadata": {},
   "outputs": [],
   "source": [
    "import numpy as np"
   ]
  },
  {
   "cell_type": "code",
   "execution_count": 3,
   "metadata": {},
   "outputs": [],
   "source": [
    "import csv"
   ]
  },
  {
   "cell_type": "code",
   "execution_count": 4,
   "metadata": {},
   "outputs": [],
   "source": [
    "import datetime as dt"
   ]
  },
  {
   "cell_type": "code",
   "execution_count": 217,
   "metadata": {},
   "outputs": [
    {
     "data": {
      "text/html": [
       "<script type=\"text/javascript\">window.PlotlyConfig = {MathJaxConfig: 'local'};</script><script type=\"text/javascript\">if (window.MathJax) {MathJax.Hub.Config({SVG: {font: \"STIX-Web\"}});}</script><script>requirejs.config({paths: { 'plotly': ['https://cdn.plot.ly/plotly-latest.min']},});if(!window._Plotly) {require(['plotly'],function(plotly) {window._Plotly=plotly;});}</script>"
      ],
      "text/vnd.plotly.v1+html": [
       "<script type=\"text/javascript\">window.PlotlyConfig = {MathJaxConfig: 'local'};</script><script type=\"text/javascript\">if (window.MathJax) {MathJax.Hub.Config({SVG: {font: \"STIX-Web\"}});}</script><script>requirejs.config({paths: { 'plotly': ['https://cdn.plot.ly/plotly-latest.min']},});if(!window._Plotly) {require(['plotly'],function(plotly) {window._Plotly=plotly;});}</script>"
      ]
     },
     "metadata": {},
     "output_type": "display_data"
    }
   ],
   "source": [
    "# Load visualization tools\n",
    "import seaborn as sns\n",
    "import plotly as py\n",
    "import plotly.graph_objs as go\n",
    "from plotly.graph_objs import *\n",
    "import plotly.figure_factory as ff\n",
    "from plotly.offline import download_plotlyjs, init_notebook_mode, plot, iplot\n",
    "init_notebook_mode(connected=True)"
   ]
  },
  {
   "cell_type": "code",
   "execution_count": 218,
   "metadata": {},
   "outputs": [],
   "source": [
    "# Load csv as dataframe\n",
    "df = pd.read_csv(\"trump_schedule_leak.csv\")"
   ]
  },
  {
   "cell_type": "code",
   "execution_count": 219,
   "metadata": {},
   "outputs": [],
   "source": [
    "df=df[df['top_category']!='no_data']"
   ]
  },
  {
   "cell_type": "code",
   "execution_count": 220,
   "metadata": {},
   "outputs": [],
   "source": [
    "# Prepare start/end times for datetime conversion\n",
    "for col in ['time_start','time_end']:\n",
    "    df[col]=df['date']+\" \"+df[col]"
   ]
  },
  {
   "cell_type": "code",
   "execution_count": 221,
   "metadata": {},
   "outputs": [],
   "source": [
    "# Convert datetime fields to correct datetime format\n",
    "for col in ['date','time_start','time_end']:\n",
    "    df[col]=pd.to_datetime(df[col])"
   ]
  },
  {
   "cell_type": "code",
   "execution_count": 222,
   "metadata": {},
   "outputs": [],
   "source": [
    "# Pull back out time only\n",
    "for col in ['time_start','time_end']:\n",
    "    df[col]=df[col].dt.time"
   ]
  },
  {
   "cell_type": "code",
   "execution_count": 223,
   "metadata": {},
   "outputs": [],
   "source": [
    "# Generate list of all days in range\n",
    "from datetime import datetime, timedelta\n",
    "\n",
    "def datetime_range(start, end, delta):\n",
    "    current = start\n",
    "    while current < end:\n",
    "        yield current\n",
    "        current += delta\n",
    "\n",
    "days = [dt.strftime('%Y-%m-%d') for dt in \n",
    "       datetime_range(df['date'].min(), df['date'].max(), \n",
    "       timedelta(days=1))]"
   ]
  },
  {
   "cell_type": "code",
   "execution_count": 224,
   "metadata": {},
   "outputs": [],
   "source": [
    "# Generate list of 15-minute chunks\n",
    "from datetime import datetime, timedelta\n",
    "\n",
    "def datetime_range(start, end, delta):\n",
    "    current = start\n",
    "    while current < end:\n",
    "        yield current\n",
    "        current += delta\n",
    "\n",
    "dts = [dt.strftime('%H:%M') for dt in \n",
    "       datetime_range(datetime(2019, 1, 1, 0), datetime(2019, 1, 2, 0), \n",
    "       timedelta(minutes=15))]"
   ]
  },
  {
   "cell_type": "code",
   "execution_count": 225,
   "metadata": {},
   "outputs": [],
   "source": [
    "# Create list of all categories\n",
    "cats = ['no_data']+list(df['top_category'].unique())"
   ]
  },
  {
   "cell_type": "code",
   "execution_count": 226,
   "metadata": {},
   "outputs": [],
   "source": [
    "# Encode categories as a number\n",
    "df['top_category_encoding']=[cats.index(cat) for cat in df['top_category']]"
   ]
  },
  {
   "cell_type": "code",
   "execution_count": 227,
   "metadata": {},
   "outputs": [],
   "source": [
    "# Save numeric encoding information for use later\n",
    "encodings = {}\n",
    "for cat in cats:\n",
    "    encodings[cats.index(cat)]=cat"
   ]
  },
  {
   "cell_type": "code",
   "execution_count": 228,
   "metadata": {},
   "outputs": [],
   "source": [
    "# Create schedule flag for each 15-minute chunk\n",
    "for time in dts:\n",
    "    dttime = dt.datetime.strptime(time, \"%H:%M\").time()\n",
    "    df[time]=((df['time_start'] <= dttime) & (dttime < df['time_end']))*1\n",
    "    df[time]=df[time]*df['top_category_encoding']"
   ]
  },
  {
   "cell_type": "code",
   "execution_count": 229,
   "metadata": {},
   "outputs": [],
   "source": [
    "schedule = pd.DataFrame(df.filter(items=(['date']+dts))).groupby(by='date').sum()"
   ]
  },
  {
   "cell_type": "code",
   "execution_count": 230,
   "metadata": {},
   "outputs": [],
   "source": [
    "schedule_encoded = schedule.replace(encodings)"
   ]
  },
  {
   "cell_type": "markdown",
   "metadata": {},
   "source": [
    "# Import Tweet Data"
   ]
  },
  {
   "cell_type": "code",
   "execution_count": 231,
   "metadata": {},
   "outputs": [],
   "source": [
    "tweets = pd.read_csv(\"trump_tweets_id_dt.txt\",sep=\" \", index_col=0).rename(columns={\"DateTime\":'datetime',\"ID\":'id'})"
   ]
  },
  {
   "cell_type": "code",
   "execution_count": 232,
   "metadata": {},
   "outputs": [],
   "source": [
    "# Convert to datetime\n",
    "tweets['datetime']=pd.to_datetime(tweets['datetime'])"
   ]
  },
  {
   "cell_type": "code",
   "execution_count": 233,
   "metadata": {},
   "outputs": [],
   "source": [
    "tweets=tweets.sort_values(by=\"datetime\")"
   ]
  },
  {
   "cell_type": "code",
   "execution_count": 234,
   "metadata": {},
   "outputs": [],
   "source": [
    "# Localize time zone\n",
    "tweets['datetime']=pd.DatetimeIndex(pd.to_datetime(tweets['datetime'],unit='ms')).tz_convert('US/Eastern').tz_localize(None)"
   ]
  },
  {
   "cell_type": "code",
   "execution_count": 235,
   "metadata": {},
   "outputs": [],
   "source": [
    "# Separate out date and time for axes\n",
    "tweets['date']=tweets['datetime'].dt.date\n",
    "tweets['time']=tweets['datetime'].dt.time"
   ]
  },
  {
   "cell_type": "code",
   "execution_count": 236,
   "metadata": {},
   "outputs": [],
   "source": [
    "# Clip tweet dataframe to overlap with schedule data\n",
    "tweets = tweets[tweets['datetime']>df['date'].min()]"
   ]
  },
  {
   "cell_type": "code",
   "execution_count": 237,
   "metadata": {},
   "outputs": [],
   "source": [
    "#tweets['time']=[t.strftime('%H:%M') for t in tweets['time']]"
   ]
  },
  {
   "cell_type": "code",
   "execution_count": 241,
   "metadata": {},
   "outputs": [],
   "source": [
    "tweets=tweets.sort_values(by='time')"
   ]
  },
  {
   "cell_type": "markdown",
   "metadata": {},
   "source": [
    "# Heatmap (1-Trace)"
   ]
  },
  {
   "cell_type": "code",
   "execution_count": 242,
   "metadata": {},
   "outputs": [
    {
     "ename": "TypeError",
     "evalue": "strptime() argument 1 must be str, not Timestamp",
     "output_type": "error",
     "traceback": [
      "\u001b[0;31m---------------------------------------------------------------------------\u001b[0m",
      "\u001b[0;31mTypeError\u001b[0m                                 Traceback (most recent call last)",
      "\u001b[0;32m<ipython-input-242-c37879fea621>\u001b[0m in \u001b[0;36m<module>\u001b[0;34m\u001b[0m\n\u001b[0;32m----> 1\u001b[0;31m \u001b[0mschedule\u001b[0m\u001b[0;34m.\u001b[0m\u001b[0mcolumns\u001b[0m \u001b[0;34m=\u001b[0m \u001b[0;34m[\u001b[0m\u001b[0mdatetime\u001b[0m\u001b[0;34m.\u001b[0m\u001b[0mstrptime\u001b[0m\u001b[0;34m(\u001b[0m\u001b[0mt\u001b[0m\u001b[0;34m,\u001b[0m \u001b[0;34m'%H:%M'\u001b[0m\u001b[0;34m)\u001b[0m \u001b[0;32mfor\u001b[0m \u001b[0mt\u001b[0m \u001b[0;32min\u001b[0m \u001b[0mschedule\u001b[0m\u001b[0;34m.\u001b[0m\u001b[0mcolumns\u001b[0m\u001b[0;34m]\u001b[0m\u001b[0;34m\u001b[0m\u001b[0;34m\u001b[0m\u001b[0m\n\u001b[0m",
      "\u001b[0;32m<ipython-input-242-c37879fea621>\u001b[0m in \u001b[0;36m<listcomp>\u001b[0;34m(.0)\u001b[0m\n\u001b[0;32m----> 1\u001b[0;31m \u001b[0mschedule\u001b[0m\u001b[0;34m.\u001b[0m\u001b[0mcolumns\u001b[0m \u001b[0;34m=\u001b[0m \u001b[0;34m[\u001b[0m\u001b[0mdatetime\u001b[0m\u001b[0;34m.\u001b[0m\u001b[0mstrptime\u001b[0m\u001b[0;34m(\u001b[0m\u001b[0mt\u001b[0m\u001b[0;34m,\u001b[0m \u001b[0;34m'%H:%M'\u001b[0m\u001b[0;34m)\u001b[0m \u001b[0;32mfor\u001b[0m \u001b[0mt\u001b[0m \u001b[0;32min\u001b[0m \u001b[0mschedule\u001b[0m\u001b[0;34m.\u001b[0m\u001b[0mcolumns\u001b[0m\u001b[0;34m]\u001b[0m\u001b[0;34m\u001b[0m\u001b[0;34m\u001b[0m\u001b[0m\n\u001b[0m",
      "\u001b[0;31mTypeError\u001b[0m: strptime() argument 1 must be str, not Timestamp"
     ]
    }
   ],
   "source": [
    "schedule.columns = [datetime.strptime(t, '%H:%M') for t in schedule.columns]"
   ]
  },
  {
   "cell_type": "code",
   "execution_count": 243,
   "metadata": {},
   "outputs": [
    {
     "data": {
      "text/plain": [
       "'file:///Users/janeadmin/Documents/trump_tweet_time/temp-plot.html'"
      ]
     },
     "execution_count": 243,
     "metadata": {},
     "output_type": "execute_result"
    }
   ],
   "source": [
    "heatmap = go.Heatmap(\n",
    "    z=schedule.values,\n",
    "    x=schedule.columns,\n",
    "    y=schedule.index,\n",
    "    text=schedule_encoded.values\n",
    ")\n",
    "\n",
    "scatterplot = go.Scatter(\n",
    "    x = tweets['time'],\n",
    "    y = tweets['date'],\n",
    "    mode = 'markers'\n",
    ")\n",
    "\n",
    "data = [scatterplot,heatmap]\n",
    "\n",
    "layout = go.Layout(\n",
    "    title = \"Trump Schedule\",\n",
    "    hovermode='closest'\n",
    ")\n",
    "\n",
    "fig = go.Figure(data=data,layout=layout)\n",
    "py.offline.plot(fig)"
   ]
  },
  {
   "cell_type": "code",
   "execution_count": null,
   "metadata": {},
   "outputs": [],
   "source": [
    "z = schedule.values\n",
    "\n",
    "label = schedule_encoded.values\n",
    "    \n",
    "hover=label\n",
    "\n",
    "fig = ff.create_annotated_heatmap(z,colorscale='Portland')\n",
    "py.offline.plot(fig, filename='annotated_heatmap')"
   ]
  },
  {
   "cell_type": "markdown",
   "metadata": {},
   "source": [
    "# Heatmap using multiple traces"
   ]
  },
  {
   "cell_type": "code",
   "execution_count": null,
   "metadata": {},
   "outputs": [],
   "source": [
    "# Create an array of data frame schedules; one for each category\n",
    "dfs = []\n",
    "for cat in cats:\n",
    "    # Create a new dataframe for the selected category with date as index and times as columns\n",
    "    catdf = pd.DataFrame(df[df['top_category']==cat],columns=(['date']+dts))\n",
    "    catdf = catdf.groupby(by='date').sum()\n",
    "    dfs.append(catdf)\n",
    "    # print(catdf.shape)"
   ]
  },
  {
   "cell_type": "code",
   "execution_count": null,
   "metadata": {},
   "outputs": [],
   "source": [
    "for cat in cats:\n",
    "    # Add missing dates with 0's\n",
    "    for d in df['date'].unique():\n",
    "        # If the date isn't already listed in this dataframe\n",
    "        if d not in dfs[cats.index(cat)].index:\n",
    "            #Add it and fill all columns with zeroes\n",
    "            dfs[cats.index(cat)].loc[d]=[0] * len(dfs[cats.index(cat)].columns)\n",
    "        # If the date is already in the dataframe for this category, don't do anything\n",
    "        else:\n",
    "            pass\n",
    "        # IMPORTANT: Replace all zero's with NULL - sets the transparency in the heatmap\n",
    "        dfs[cats.index(cat)] = dfs[cats.index(cat)].replace(0, np.nan)\n",
    "    # print(dfs[cats.index(cat)].shape)"
   ]
  },
  {
   "cell_type": "code",
   "execution_count": null,
   "metadata": {},
   "outputs": [],
   "source": [
    "# Demo for querying schedule dataframes:\n",
    "# dfs[cats.index('executive_time')]['08:00']['2018-11-07']"
   ]
  },
  {
   "cell_type": "code",
   "execution_count": null,
   "metadata": {},
   "outputs": [],
   "source": [
    "# Set colors for visualization\n",
    "colors = ['red','orange','yellow','green','blue','purple','brown','black','pink']"
   ]
  },
  {
   "cell_type": "code",
   "execution_count": null,
   "metadata": {},
   "outputs": [],
   "source": [
    "cats"
   ]
  },
  {
   "cell_type": "code",
   "execution_count": null,
   "metadata": {},
   "outputs": [],
   "source": [
    "graphs = []\n",
    "\n",
    "# Thanks etpinard for the trace hack: https://codepen.io/etpinard/pen/GmbVZq?editors=0010\n",
    "\n",
    "for cat in cats:\n",
    "    num = cats.index(cat)\n",
    "    color = colors[num]\n",
    "    graph = go.Heatmap(\n",
    "        name=str(cat),\n",
    "        z=dfs[cats.index(cat)].values,\n",
    "        x=list(dfs[cats.index(cat)].columns),\n",
    "        y=list(dfs[cats.index(cat)].index),\n",
    "        colorscale=[[0, color], [1, color]],\n",
    "        colorbar=dict(\n",
    "            lenmode='pixels',\n",
    "            len=50,\n",
    "            y=1-(0.1*num),\n",
    "            tickvals=[0],\n",
    "            ticktext=[''],\n",
    "            title=str(cat)\n",
    "        )\n",
    "    )\n",
    "    graphs.append(graph)"
   ]
  },
  {
   "cell_type": "code",
   "execution_count": null,
   "metadata": {},
   "outputs": [],
   "source": [
    "layout = go.Layout(\n",
    "    title = \"Trump Schedule\",\n",
    "    hovermode='closest'\n",
    ")\n",
    "\n",
    "fig = go.Figure(data=graphs,layout=layout)\n",
    "py.offline.plot(fig)"
   ]
  },
  {
   "cell_type": "code",
   "execution_count": null,
   "metadata": {},
   "outputs": [],
   "source": []
  }
 ],
 "metadata": {
  "kernelspec": {
   "display_name": "Python 3",
   "language": "python",
   "name": "python3"
  },
  "language_info": {
   "codemirror_mode": {
    "name": "ipython",
    "version": 3
   },
   "file_extension": ".py",
   "mimetype": "text/x-python",
   "name": "python",
   "nbconvert_exporter": "python",
   "pygments_lexer": "ipython3",
   "version": "3.7.2"
  }
 },
 "nbformat": 4,
 "nbformat_minor": 2
}
